{
  "nbformat": 4,
  "nbformat_minor": 0,
  "metadata": {
    "colab": {
      "name": "Decisão Multicritério para Estoques Ótimos em Farmácias .ipynb",
      "provenance": [],
      "collapsed_sections": []
    },
    "kernelspec": {
      "name": "python3",
      "display_name": "Python 3"
    },
    "language_info": {
      "name": "python"
    }
  },
  "cells": [
    {
      "cell_type": "markdown",
      "metadata": {
        "id": "pU1VK-V25t4q"
      },
      "source": [
        "# Otimização de Parâmetros de Estoque "
      ]
    },
    {
      "cell_type": "markdown",
      "metadata": {
        "id": "POa1f_e25oXr"
      },
      "source": [
        "Inclusão das Bibliotecas"
      ]
    },
    {
      "cell_type": "code",
      "metadata": {
        "colab": {
          "base_uri": "https://localhost:8080/"
        },
        "id": "VbySlfuctPSS",
        "outputId": "8f574856-d2d1-433f-a057-659b5280e4b2"
      },
      "source": [
        "pip install pygmo"
      ],
      "execution_count": null,
      "outputs": [
        {
          "output_type": "stream",
          "text": [
            "Collecting pygmo\n",
            "\u001b[?25l  Downloading https://files.pythonhosted.org/packages/d9/b9/91d379a34738636a83d47e1921f04df5a1c9b7442b0f90dee0aa2cf509aa/pygmo-2.16.1-cp37-cp37m-manylinux2010_x86_64.whl (11.5MB)\n",
            "\u001b[K     |████████████████████████████████| 11.5MB 5.5MB/s \n",
            "\u001b[?25hRequirement already satisfied: numpy in /usr/local/lib/python3.7/dist-packages (from pygmo) (1.19.5)\n",
            "Requirement already satisfied: cloudpickle in /usr/local/lib/python3.7/dist-packages (from pygmo) (1.3.0)\n",
            "Installing collected packages: pygmo\n",
            "Successfully installed pygmo-2.16.1\n"
          ],
          "name": "stdout"
        }
      ]
    },
    {
      "cell_type": "code",
      "metadata": {
        "colab": {
          "base_uri": "https://localhost:8080/"
        },
        "id": "H-FuCWh0NRwI",
        "outputId": "3ff27493-d092-4f44-902a-e5f176cfc53c"
      },
      "source": [
        "pip install scikit-fuzzy"
      ],
      "execution_count": null,
      "outputs": [
        {
          "output_type": "stream",
          "text": [
            "Collecting scikit-fuzzy\n",
            "\u001b[?25l  Downloading https://files.pythonhosted.org/packages/6c/f0/5eb5dbe0fd8dfe7d4651a8f4e591a196623a22b9e5339101e559695b4f6c/scikit-fuzzy-0.4.2.tar.gz (993kB)\n",
            "\u001b[K     |████████████████████████████████| 1.0MB 5.2MB/s \n",
            "\u001b[?25hRequirement already satisfied: numpy>=1.6.0 in /usr/local/lib/python3.7/dist-packages (from scikit-fuzzy) (1.19.5)\n",
            "Requirement already satisfied: scipy>=0.9.0 in /usr/local/lib/python3.7/dist-packages (from scikit-fuzzy) (1.4.1)\n",
            "Requirement already satisfied: networkx>=1.9.0 in /usr/local/lib/python3.7/dist-packages (from scikit-fuzzy) (2.5.1)\n",
            "Requirement already satisfied: decorator<5,>=4.3 in /usr/local/lib/python3.7/dist-packages (from networkx>=1.9.0->scikit-fuzzy) (4.4.2)\n",
            "Building wheels for collected packages: scikit-fuzzy\n",
            "  Building wheel for scikit-fuzzy (setup.py) ... \u001b[?25l\u001b[?25hdone\n",
            "  Created wheel for scikit-fuzzy: filename=scikit_fuzzy-0.4.2-cp37-none-any.whl size=894069 sha256=ff5a5b4c36722c785082d193c9dd6b70c197839c771a6ffb61eae501858c5b1f\n",
            "  Stored in directory: /root/.cache/pip/wheels/b9/4e/77/da79b16f64ef1738d95486e2731eea09d73e90a72465096600\n",
            "Successfully built scikit-fuzzy\n",
            "Installing collected packages: scikit-fuzzy\n",
            "Successfully installed scikit-fuzzy-0.4.2\n"
          ],
          "name": "stdout"
        }
      ]
    },
    {
      "cell_type": "code",
      "metadata": {
        "id": "u9seCqOuZE64"
      },
      "source": [
        "import numpy as np\n",
        "import pandas as pd\n",
        "import scipy.stats as st\n",
        "from scipy.stats import norm\n",
        "import seaborn as sns\n",
        "import scipy\n",
        "import matplotlib.pyplot as plt\n",
        "import math\n",
        "from pygmo import *"
      ],
      "execution_count": null,
      "outputs": []
    },
    {
      "cell_type": "markdown",
      "metadata": {
        "id": "sUnALOUb5fvc"
      },
      "source": [
        "Confugração do Problema"
      ]
    },
    {
      "cell_type": "code",
      "metadata": {
        "id": "engNfvinXTrO"
      },
      "source": [
        "# Aqui você deve colocar as características do seu estoque\n",
        "\n",
        "# Parâmetros do Estoque a ser Otimizado\n",
        "A = 80 # custo de uma solicitação de um compra\n",
        "D = 3412 # demanda anual média\n",
        "h = 0.26 # taxa de manutenção de estoque (carrying rate)\n",
        "c = 27.5 # custo de uma unidade do produto\n",
        "sigma_L = 53.354 # desvio padrão da quantidade de vendas até a chegada  de um pedido\n",
        "mi_L = D/12 # demanda prevista durante o tempo de espera do pedido, ou seja, pode ser a média mensal se demora 1 mês pra chegar\n",
        "\n",
        "\n",
        "# Variáveis que vão ser usadas na otimização\n",
        "#Q = # tamanho do pedido\n",
        "#k = # fator de segurança\n",
        "\n",
        "k_minimo = 1.00 # fator de segurança mínimo\n",
        "k_maximo = 3.00 # fator de segurança máximo\n",
        "Q_minimo = 100 # tamanho mínimo do pedido\n",
        "Q_maximo = 800 # tamanho máximo do pedido\n",
        "\n",
        "\n",
        "# Objetivos a otimizar\n",
        "#C = # Minimizar - custo esperado por ano para configuração e manutenção de estoque\n",
        "#S = # Minimizar - número esperado de ocasiões de escassez por ano\n",
        "\n",
        "# Variáveis de Cálculo\n",
        "#fi =  # função de distribuição de probabilidade\n",
        "#FI =  # função de distribuição cumulativa\n",
        "#r =  # ponto que quando alcançado precisa ser feita uma nova ordem de compra\n",
        "# L  = # tempo do pedido até a chegada do produto na prateleira (lead time), consireraremos como 1 mês\n",
        "# D_L = # demanda durante o lead time, é normalmente distribuído com média mi_L e desvio padrão sigma_L\n",
        "\n"
      ],
      "execution_count": null,
      "outputs": []
    },
    {
      "cell_type": "markdown",
      "metadata": {
        "id": "TbHxC0pW6EYV"
      },
      "source": [
        "Definições do Sistema"
      ]
    },
    {
      "cell_type": "code",
      "metadata": {
        "id": "A9dubVHesjxC"
      },
      "source": [
        "# Não deve mexer aqui, são as configurações do algoritmo\n",
        "\n",
        "class inventory():\n",
        "  def __init__(self):\n",
        "    self.A = A # custo de uma solicitação de um compra\n",
        "    self.D = D # demanda anual média\n",
        "    self.h = h # taxa de transporte de estoque (carrying rate)\n",
        "    self.c = c # custo de uma unidade do produto\n",
        "    self.sigma_L = sigma_L # desvio padrão da quantidade de vendas até a chegada  de um pedido\n",
        "    self.mi_L = mi_L # demanda prevista durante o tempo de espera do pedido, ou seja, pode ser a média mensal se demora 1 mês pra chegar\n",
        "    \n",
        "  # C = (A*D/Q) + h*c*((Q/2) + k*sigma_L)\n",
        "  # S =(D*sigma_L/Q)*  (fi - k*(1- FI))\n",
        "\n",
        "  def return_R(self, k):\n",
        "    \"\"\"Retorna o ponto de reabastecimento.\"\"\"\n",
        "    self.r = self.mi_L + k*self.sigma_L\n",
        "    return self.r\n",
        "\n",
        "  def return_S (self, Q, k):\n",
        "    self.S = (self.D/Q) * (1 - st.norm.cdf(k)) # P(z>=k), que é (1 - P(z <= k)), que é (1 - A(k))\n",
        "    return self.S\n",
        "\n",
        "  def return_C (self, Q, k):\n",
        "    # Por ser a função de probabilidade normal standard o sigma é 1 e o mi é 0\n",
        "    self.bins = k\n",
        "    self.sigma_standard = 1\n",
        "    self.mi_standard = 0\n",
        "    self.FI = st.norm.cdf(k)#scipy.stats.norm.cdf(k)\n",
        "    self.fi = (1/(self.sigma_standard * np.sqrt(2 * np.pi))) * np.exp( - (self.bins - self.mi_standard)**2 / (2 * self.sigma_standard**2)) # (1/(np.sqrt(np.pi))) * np.exp( - (self.bins )**2 )   #\n",
        "    self.C = ((self.A*self.D)/Q) + self.h*self.c*((Q/2) + k*self.sigma_L + (self.D*self.sigma_L/Q)* (self.fi - k*(1- self.FI)) )\n",
        "    return self.C\n",
        "\n",
        "\n",
        "\n",
        "class optimization_problem():\n",
        "\n",
        "    def fitness(self, x_var):  # x_var = [Q, k]\n",
        "        #f1 = 1/self.model.return_S # problema de maximização\n",
        "        f1 = self.model.return_S(x_var[0], x_var[1]) # problema de minimização\n",
        "        f2 = self.model.return_C(x_var[0], x_var[1]) # problema de minimização\n",
        "        return (f1, f2)\n",
        "\n",
        "    # equality constraints\n",
        "    def get_nec(self):\n",
        "        return 0\n",
        "\n",
        "    def get_nobj(self):\n",
        "        \"\"\"Return number of objectives.\"\"\"\n",
        "        return 2\n",
        "\n",
        "    # inequality constraints\n",
        "    def get_nic(self):\n",
        "        return 0\n",
        "\n",
        "    def get_bounds(self): # x_var = [Q, k]\n",
        "        \"\"\"Return bounds of decision variables.\"\"\"\n",
        "        return ([Q_minimo, k_minimo], [Q_maximo, k_maximo])\n",
        "    \n",
        "optimize = optimization_problem()\n",
        "optimize.model = inventory()"
      ],
      "execution_count": null,
      "outputs": []
    },
    {
      "cell_type": "markdown",
      "metadata": {
        "id": "YkOJpT5qyl5S"
      },
      "source": [
        "Primeiro Teste\n"
      ]
    },
    {
      "cell_type": "code",
      "metadata": {
        "colab": {
          "base_uri": "https://localhost:8080/",
          "height": 86
        },
        "id": "C_--uIMJmjrT",
        "outputId": "e158d34a-db05-4371-f015-29ffcfacd461"
      },
      "source": [
        "# Assim você pode fazer testes dos valores de Q e k como quiser\n",
        "#   Esse tipo de procedimento é o que é feito hoje, os gerentes decidem o que acham que são bons valores e vão testando\n",
        "\n",
        "estoque = inventory()\n",
        "print(\"Custo anual do estoque: \" + str(estoque.return_C(180, 1.65)))\n",
        "print(\"Probabilidade de faltar estoque: \" + str(estoque.return_S(180, 1.65)))\n",
        "print(\"Ponto de pedido: \" + str(estoque.return_R(1.65)))\n",
        "\"\"\" Escolhendo essa configuração de Q = 180 e k = 1.65, o estoque vai custar caro e sempre vai faltar produto \"\"\""
      ],
      "execution_count": null,
      "outputs": [
        {
          "output_type": "stream",
          "text": [
            "Custo anual do estoque: 2938.618265425719\n",
            "Probabilidade de faltar estoque: 0.9377591607267074\n",
            "Ponto de pedido: 372.36743333333334\n"
          ],
          "name": "stdout"
        },
        {
          "output_type": "execute_result",
          "data": {
            "application/vnd.google.colaboratory.intrinsic+json": {
              "type": "string"
            },
            "text/plain": [
              "' Escolhendo essa configuração de Q = 180 e k = 1.65, o estoque vai custar caro e sempre vai faltar produto '"
            ]
          },
          "metadata": {
            "tags": []
          },
          "execution_count": 6
        }
      ]
    },
    {
      "cell_type": "markdown",
      "metadata": {
        "id": "aLsgS-Fr6c7k"
      },
      "source": [
        "Otimização Inteligente"
      ]
    },
    {
      "cell_type": "code",
      "metadata": {
        "colab": {
          "base_uri": "https://localhost:8080/",
          "height": 986
        },
        "id": "4ATMaUQWuZ5L",
        "outputId": "c5de3ebb-36fd-47f5-fae2-54573cdbbe70"
      },
      "source": [
        "import pygmo as pg\n",
        "\n",
        "\n",
        "prob = pg.problem(optimize)\n",
        "\n",
        "alg = pg.nsga2()\n",
        "pop = pg.population(prob, size= 16, seed = 1)\n",
        "algo = pg.algorithm(pg.nsga2(gen=100))\n",
        "pop = algo.evolve(pop)\n",
        "fits, vectors = pop.get_f(), pop.get_x()\n",
        "print('')\n",
        "print('______________________________________________________')\n",
        "print('Resultado da Otimização')\n",
        "print('______________________________________________________')\n",
        "print('')\n",
        "print(\"Custo de Estoque e Probabilidade de Falta de Estoque\")\n",
        "print(fits)\n",
        "print('')\n",
        "print(\"Tamanho do Pedido e Fator de Segurança\")\n",
        "print(vectors)\n",
        "print('')\n",
        "ax = plot_non_dominated_fronts(pop.get_f()) \n",
        "plt.title(\"ZDT1: ... and the evolved population\")  \n",
        "\n"
      ],
      "execution_count": null,
      "outputs": [
        {
          "output_type": "stream",
          "text": [
            "\n",
            "______________________________________________________\n",
            "Resultado da Otimização\n",
            "______________________________________________________\n",
            "\n",
            "Custo de Estoque e Probabilidade de Falta de Estoque\n",
            "[[9.91273381e-01 2.67477538e+03]\n",
            " [5.75787630e-03 4.34612268e+03]\n",
            " [5.75787630e-03 4.34612268e+03]\n",
            " [4.57091794e-01 2.72047571e+03]\n",
            " [7.83489676e-01 2.68032720e+03]\n",
            " [1.18406205e-02 3.23809595e+03]\n",
            " [5.89393630e-03 4.28821459e+03]\n",
            " [3.07711004e-01 2.76505901e+03]\n",
            " [6.94304691e-03 3.93537123e+03]\n",
            " [1.46325912e-01 2.85276820e+03]\n",
            " [8.52863215e-03 3.58152290e+03]\n",
            " [6.99966603e-03 3.91946247e+03]\n",
            " [1.17312578e-02 3.56546726e+03]\n",
            " [8.97901931e-02 2.91451245e+03]\n",
            " [3.12936915e-01 2.76311863e+03]\n",
            " [2.91550892e-02 3.05334124e+03]]\n",
            "\n",
            "Tamanho do Pedido e Fator de Segurança\n",
            "[[301.13895403   1.35638357]\n",
            " [799.95633861   2.99998694]\n",
            " [799.95633861   2.99998694]\n",
            " [292.8953471    1.75959793]\n",
            " [301.11298382   1.48219748]\n",
            " [389.0040765    2.99998694]\n",
            " [781.50059209   2.99998263]\n",
            " [316.97848549   1.90198306]\n",
            " [665.94139358   2.99882426]\n",
            " [292.8953471    2.23952114]\n",
            " [540.0689773    2.99998694]\n",
            " [660.55470588   2.99882426]\n",
            " [548.75115238   2.89650296]\n",
            " [292.2421285    2.42327477]\n",
            " [316.97848549   1.89460799]\n",
            " [299.31697945   2.7996851 ]]\n",
            "\n"
          ],
          "name": "stdout"
        },
        {
          "output_type": "execute_result",
          "data": {
            "text/plain": [
              "Text(0.5, 1.0, 'ZDT1: ... and the evolved population')"
            ]
          },
          "metadata": {
            "tags": []
          },
          "execution_count": 7
        },
        {
          "output_type": "display_data",
          "data": {
            "image/png": "[encoded data removed]",
            "text/plain": [
              "<Figure size 432x288 with 1 Axes>"
            ]
          },
          "metadata": {
            "tags": [],
            "needs_background": "light"
          }
        }
      ]
    },
    {
      "cell_type": "code",
      "metadata": {
        "colab": {
          "base_uri": "https://localhost:8080/"
        },
        "id": "p1A3LKsOp49G",
        "outputId": "aca94277-48fe-4304-ebc0-41b38701d91d"
      },
      "source": [
        "pop"
      ],
      "execution_count": null,
      "outputs": [
        {
          "output_type": "execute_result",
          "data": {
            "text/plain": [
              "Problem name: <class '__main__.optimization_problem'>\n",
              "\tC++ class name: pybind11::object\n",
              "\n",
              "\tGlobal dimension:\t\t\t2\n",
              "\tInteger dimension:\t\t\t0\n",
              "\tFitness dimension:\t\t\t2\n",
              "\tNumber of objectives:\t\t\t2\n",
              "\tEquality constraints dimension:\t\t0\n",
              "\tInequality constraints dimension:\t0\n",
              "\tLower bounds: [100, 1]\n",
              "\tUpper bounds: [800, 3]\n",
              "\tHas batch fitness evaluation: false\n",
              "\n",
              "\tHas gradient: false\n",
              "\tUser implemented gradient sparsity: false\n",
              "\tHas hessians: false\n",
              "\tUser implemented hessians sparsity: false\n",
              "\n",
              "\tFitness evaluations: 1616\n",
              "\n",
              "\tThread safety: none\n",
              "\n",
              "Population size: 16\n",
              "\n",
              "List of individuals: \n",
              "#0:\n",
              "\tID:\t\t\t17669943048939433521\n",
              "\tDecision vector:\t[301.139, 1.35638]\n",
              "\tFitness vector:\t\t[0.991273, 2674.78]\n",
              "#1:\n",
              "\tID:\t\t\t9835163641955136003\n",
              "\tDecision vector:\t[799.956, 2.99999]\n",
              "\tFitness vector:\t\t[0.00575788, 4346.12]\n",
              "#2:\n",
              "\tID:\t\t\t12762880030118587160\n",
              "\tDecision vector:\t[799.956, 2.99999]\n",
              "\tFitness vector:\t\t[0.00575788, 4346.12]\n",
              "#3:\n",
              "\tID:\t\t\t5820236150515825707\n",
              "\tDecision vector:\t[292.895, 1.7596]\n",
              "\tFitness vector:\t\t[0.457092, 2720.48]\n",
              "#4:\n",
              "\tID:\t\t\t12663706866552359962\n",
              "\tDecision vector:\t[301.113, 1.4822]\n",
              "\tFitness vector:\t\t[0.78349, 2680.33]\n",
              "#5:\n",
              "\tID:\t\t\t15396126197810996560\n",
              "\tDecision vector:\t[389.004, 2.99999]\n",
              "\tFitness vector:\t\t[0.0118406, 3238.1]\n",
              "#6:\n",
              "\tID:\t\t\t337359223002198899\n",
              "\tDecision vector:\t[781.501, 2.99998]\n",
              "\tFitness vector:\t\t[0.00589394, 4288.21]\n",
              "#7:\n",
              "\tID:\t\t\t13837720151706856914\n",
              "\tDecision vector:\t[316.978, 1.90198]\n",
              "\tFitness vector:\t\t[0.307711, 2765.06]\n",
              "#8:\n",
              "\tID:\t\t\t18241267407972691008\n",
              "\tDecision vector:\t[665.941, 2.99882]\n",
              "\tFitness vector:\t\t[0.00694305, 3935.37]\n",
              "#9:\n",
              "\tID:\t\t\t13801220328521347097\n",
              "\tDecision vector:\t[292.895, 2.23952]\n",
              "\tFitness vector:\t\t[0.146326, 2852.77]\n",
              "#10:\n",
              "\tID:\t\t\t5173278553645899490\n",
              "\tDecision vector:\t[540.069, 2.99999]\n",
              "\tFitness vector:\t\t[0.00852863, 3581.52]\n",
              "#11:\n",
              "\tID:\t\t\t14559633843823650695\n",
              "\tDecision vector:\t[660.555, 2.99882]\n",
              "\tFitness vector:\t\t[0.00699967, 3919.46]\n",
              "#12:\n",
              "\tID:\t\t\t1904183826989973145\n",
              "\tDecision vector:\t[548.751, 2.8965]\n",
              "\tFitness vector:\t\t[0.0117313, 3565.47]\n",
              "#13:\n",
              "\tID:\t\t\t8262177221521703958\n",
              "\tDecision vector:\t[292.242, 2.42327]\n",
              "\tFitness vector:\t\t[0.0897902, 2914.51]\n",
              "#14:\n",
              "\tID:\t\t\t16760628737931656899\n",
              "\tDecision vector:\t[316.978, 1.89461]\n",
              "\tFitness vector:\t\t[0.312937, 2763.12]\n",
              "#15:\n",
              "\tID:\t\t\t5416224961255916670\n",
              "\tDecision vector:\t[299.317, 2.79969]\n",
              "\tFitness vector:\t\t[0.0291551, 3053.34]"
            ]
          },
          "metadata": {
            "tags": []
          },
          "execution_count": 8
        }
      ]
    },
    {
      "cell_type": "code",
      "metadata": {
        "colab": {
          "base_uri": "https://localhost:8080/",
          "height": 521
        },
        "id": "BpPEABHHbExK",
        "outputId": "49fbfec3-cde4-4968-c243-a5d6b64b1991"
      },
      "source": [
        "df_solutions = pd.DataFrame(columns = ['S', 'C', 'Q', 'k', 'Ponto de Pedido' ])\n",
        "for i in range (0, len(vectors)):\n",
        "  dict_solution = {'S' : fits[i][0], 'C' : fits[i][1], 'Q' : vectors[i][0], 'k' : vectors[i][1], 'Ponto de Pedido': estoque.return_R(vectors[i][1]) }\n",
        "  df_solutions.loc[i] = dict_solution\n",
        "df_solutions"
      ],
      "execution_count": null,
      "outputs": [
        {
          "output_type": "execute_result",
          "data": {
            "text/html": [
              "<div>\n",
              "<style scoped>\n",
              "    .dataframe tbody tr th:only-of-type {\n",
              "        vertical-align: middle;\n",
              "    }\n",
              "\n",
              "    .dataframe tbody tr th {\n",
              "        vertical-align: top;\n",
              "    }\n",
              "\n",
              "    .dataframe thead th {\n",
              "        text-align: right;\n",
              "    }\n",
              "</style>\n",
              "<table border=\"1\" class=\"dataframe\">\n",
              "  <thead>\n",
              "    <tr style=\"text-align: right;\">\n",
              "      <th></th>\n",
              "      <th>S</th>\n",
              "      <th>C</th>\n",
              "      <th>Q</th>\n",
              "      <th>k</th>\n",
              "      <th>Ponto de Pedido</th>\n",
              "    </tr>\n",
              "  </thead>\n",
              "  <tbody>\n",
              "    <tr>\n",
              "      <th>0</th>\n",
              "      <td>0.991273</td>\n",
              "      <td>2674.775379</td>\n",
              "      <td>301.138954</td>\n",
              "      <td>1.356384</td>\n",
              "      <td>356.701823</td>\n",
              "    </tr>\n",
              "    <tr>\n",
              "      <th>1</th>\n",
              "      <td>0.005758</td>\n",
              "      <td>4346.122683</td>\n",
              "      <td>799.956339</td>\n",
              "      <td>2.999987</td>\n",
              "      <td>444.394636</td>\n",
              "    </tr>\n",
              "    <tr>\n",
              "      <th>2</th>\n",
              "      <td>0.005758</td>\n",
              "      <td>4346.122683</td>\n",
              "      <td>799.956339</td>\n",
              "      <td>2.999987</td>\n",
              "      <td>444.394636</td>\n",
              "    </tr>\n",
              "    <tr>\n",
              "      <th>3</th>\n",
              "      <td>0.457092</td>\n",
              "      <td>2720.475712</td>\n",
              "      <td>292.895347</td>\n",
              "      <td>1.759598</td>\n",
              "      <td>378.214921</td>\n",
              "    </tr>\n",
              "    <tr>\n",
              "      <th>4</th>\n",
              "      <td>0.783490</td>\n",
              "      <td>2680.327195</td>\n",
              "      <td>301.112984</td>\n",
              "      <td>1.482197</td>\n",
              "      <td>363.414498</td>\n",
              "    </tr>\n",
              "    <tr>\n",
              "      <th>5</th>\n",
              "      <td>0.011841</td>\n",
              "      <td>3238.095948</td>\n",
              "      <td>389.004077</td>\n",
              "      <td>2.999987</td>\n",
              "      <td>444.394636</td>\n",
              "    </tr>\n",
              "    <tr>\n",
              "      <th>6</th>\n",
              "      <td>0.005894</td>\n",
              "      <td>4288.214587</td>\n",
              "      <td>781.500592</td>\n",
              "      <td>2.999983</td>\n",
              "      <td>444.394407</td>\n",
              "    </tr>\n",
              "    <tr>\n",
              "      <th>7</th>\n",
              "      <td>0.307711</td>\n",
              "      <td>2765.059011</td>\n",
              "      <td>316.978485</td>\n",
              "      <td>1.901983</td>\n",
              "      <td>385.811737</td>\n",
              "    </tr>\n",
              "    <tr>\n",
              "      <th>8</th>\n",
              "      <td>0.006943</td>\n",
              "      <td>3935.371226</td>\n",
              "      <td>665.941394</td>\n",
              "      <td>2.998824</td>\n",
              "      <td>444.332603</td>\n",
              "    </tr>\n",
              "    <tr>\n",
              "      <th>9</th>\n",
              "      <td>0.146326</td>\n",
              "      <td>2852.768202</td>\n",
              "      <td>292.895347</td>\n",
              "      <td>2.239521</td>\n",
              "      <td>403.820744</td>\n",
              "    </tr>\n",
              "    <tr>\n",
              "      <th>10</th>\n",
              "      <td>0.008529</td>\n",
              "      <td>3581.522899</td>\n",
              "      <td>540.068977</td>\n",
              "      <td>2.999987</td>\n",
              "      <td>444.394636</td>\n",
              "    </tr>\n",
              "    <tr>\n",
              "      <th>11</th>\n",
              "      <td>0.007000</td>\n",
              "      <td>3919.462469</td>\n",
              "      <td>660.554706</td>\n",
              "      <td>2.998824</td>\n",
              "      <td>444.332603</td>\n",
              "    </tr>\n",
              "    <tr>\n",
              "      <th>12</th>\n",
              "      <td>0.011731</td>\n",
              "      <td>3565.467262</td>\n",
              "      <td>548.751152</td>\n",
              "      <td>2.896503</td>\n",
              "      <td>438.873352</td>\n",
              "    </tr>\n",
              "    <tr>\n",
              "      <th>13</th>\n",
              "      <td>0.089790</td>\n",
              "      <td>2914.512446</td>\n",
              "      <td>292.242129</td>\n",
              "      <td>2.423275</td>\n",
              "      <td>413.624735</td>\n",
              "    </tr>\n",
              "    <tr>\n",
              "      <th>14</th>\n",
              "      <td>0.312937</td>\n",
              "      <td>2763.118626</td>\n",
              "      <td>316.978485</td>\n",
              "      <td>1.894608</td>\n",
              "      <td>385.418248</td>\n",
              "    </tr>\n",
              "    <tr>\n",
              "      <th>15</th>\n",
              "      <td>0.029155</td>\n",
              "      <td>3053.341242</td>\n",
              "      <td>299.316979</td>\n",
              "      <td>2.799685</td>\n",
              "      <td>433.707732</td>\n",
              "    </tr>\n",
              "  </tbody>\n",
              "</table>\n",
              "</div>"
            ],
            "text/plain": [
              "           S            C           Q         k  Ponto de Pedido\n",
              "0   0.991273  2674.775379  301.138954  1.356384       356.701823\n",
              "1   0.005758  4346.122683  799.956339  2.999987       444.394636\n",
              "2   0.005758  4346.122683  799.956339  2.999987       444.394636\n",
              "3   0.457092  2720.475712  292.895347  1.759598       378.214921\n",
              "4   0.783490  2680.327195  301.112984  1.482197       363.414498\n",
              "5   0.011841  3238.095948  389.004077  2.999987       444.394636\n",
              "6   0.005894  4288.214587  781.500592  2.999983       444.394407\n",
              "7   0.307711  2765.059011  316.978485  1.901983       385.811737\n",
              "8   0.006943  3935.371226  665.941394  2.998824       444.332603\n",
              "9   0.146326  2852.768202  292.895347  2.239521       403.820744\n",
              "10  0.008529  3581.522899  540.068977  2.999987       444.394636\n",
              "11  0.007000  3919.462469  660.554706  2.998824       444.332603\n",
              "12  0.011731  3565.467262  548.751152  2.896503       438.873352\n",
              "13  0.089790  2914.512446  292.242129  2.423275       413.624735\n",
              "14  0.312937  2763.118626  316.978485  1.894608       385.418248\n",
              "15  0.029155  3053.341242  299.316979  2.799685       433.707732"
            ]
          },
          "metadata": {
            "tags": []
          },
          "execution_count": 22
        }
      ]
    },
    {
      "cell_type": "markdown",
      "metadata": {
        "id": "73lETbPl5InU"
      },
      "source": [
        " # Suporte a Decisão com Lógica Fuzzy"
      ]
    },
    {
      "cell_type": "markdown",
      "metadata": {
        "id": "2BzD0CSSS29o"
      },
      "source": [
        "Vamos utilizar um sistema de suporte a decisão para rotular automaticamente cada uma das soluções e escolher a melhor de acordo com as preferências da gerência"
      ]
    },
    {
      "cell_type": "code",
      "metadata": {
        "id": "u0Vp87Xi2Jbu"
      },
      "source": [
        "import skfuzzy as fuzz # Mamdani Fuzzy, The system use max for aggregation , centroid for defuzzification as default\n",
        "from skfuzzy import control as ctrl"
      ],
      "execution_count": null,
      "outputs": []
    },
    {
      "cell_type": "markdown",
      "metadata": {
        "id": "3iIFddj3bZEW"
      },
      "source": [
        "Aqui você pode definir os critérios gerencias do que é um alto, médio ou baixo valor do Custo Anual do Estoque"
      ]
    },
    {
      "cell_type": "code",
      "metadata": {
        "colab": {
          "base_uri": "https://localhost:8080/",
          "height": 281
        },
        "id": "5aHaYYKHNada",
        "outputId": "1e552b67-0b07-401a-c749-5e5c3e7324b6"
      },
      "source": [
        "valor = ctrl.Antecedent(np.arange(0, 6000, 1), 'Custo Anual do Estoque')\n",
        "\n",
        "valor['baixo'] = fuzz.trapmf(valor.universe, [0, 0, 1000, 2500])\n",
        "valor['medio'] = fuzz.trimf(valor.universe, [1500, 2750, 4000])\n",
        "valor['alto']  = fuzz.trapmf(valor.universe, [3000, 4500, 6000, 6000])\n",
        "\n",
        "valor.view()"
      ],
      "execution_count": null,
      "outputs": [
        {
          "output_type": "display_data",
          "data": {
            "image/png": "[encoded data removed]",
            "text/plain": [
              "<Figure size 432x288 with 1 Axes>"
            ]
          },
          "metadata": {
            "tags": [],
            "needs_background": "light"
          }
        }
      ]
    },
    {
      "cell_type": "markdown",
      "metadata": {
        "id": "n10IQazUbteE"
      },
      "source": [
        "Aqui você pode definir os critérios gerencias do que é uma alta, média ou baixa Probabilidade de Estoque Acabar"
      ]
    },
    {
      "cell_type": "code",
      "metadata": {
        "colab": {
          "base_uri": "https://localhost:8080/",
          "height": 281
        },
        "id": "8BWfaCwVNdYd",
        "outputId": "3a43ae96-5f84-448d-fffa-a0075e58b922"
      },
      "source": [
        "prob_stockout = ctrl.Antecedent(np.arange(0, 1.0, 0.001), 'Probabilidade de Estoque Acabar')\n",
        "\n",
        "prob_stockout['baixo'] = fuzz.trimf(prob_stockout.universe, [0, 0, 0.25])\n",
        "prob_stockout['medio'] = fuzz.trapmf(prob_stockout.universe, [0.1, 0.2, 0.3, 0.4])\n",
        "prob_stockout['alto']  = fuzz.trapmf(prob_stockout.universe, [0.25, 0.5, 1.0 , 1.0])\n",
        "\n",
        "prob_stockout.view()"
      ],
      "execution_count": null,
      "outputs": [
        {
          "output_type": "display_data",
          "data": {
            "image/png": "[encoded data removed]",
            "text/plain": [
              "<Figure size 432x288 with 1 Axes>"
            ]
          },
          "metadata": {
            "tags": [],
            "needs_background": "light"
          }
        }
      ]
    },
    {
      "cell_type": "markdown",
      "metadata": {
        "id": "j12KaVhbb2ZK"
      },
      "source": [
        "Aqui se define entre 0 a 100 o que é um estoque ruim, bom custo benefício ou muito bom"
      ]
    },
    {
      "cell_type": "code",
      "metadata": {
        "colab": {
          "base_uri": "https://localhost:8080/",
          "height": 281
        },
        "id": "DtMV4WqMNgYL",
        "outputId": "3c38d9e3-f52b-432e-9dc3-a8c5c49cd879"
      },
      "source": [
        "decisao = ctrl.Consequent(np.arange(0, 100, 1), 'Pontuação de Estoque')\n",
        "\n",
        "decisao['ruim'] = fuzz.trimf(decisao.universe, [0,0,40])\n",
        "decisao['bom custo benefício'] = fuzz.trapmf(decisao.universe,  [20, 35, 55,75])\n",
        "decisao['muito bom']  = fuzz.trimf(decisao.universe, [55, 100, 100])\n",
        "\n",
        "decisao.view()"
      ],
      "execution_count": null,
      "outputs": [
        {
          "output_type": "display_data",
          "data": {
            "image/png": "[encoded data removed]",
            "text/plain": [
              "<Figure size 432x288 with 1 Axes>"
            ]
          },
          "metadata": {
            "tags": [],
            "needs_background": "light"
          }
        }
      ]
    },
    {
      "cell_type": "markdown",
      "metadata": {
        "id": "ICTlOlOEcG5B"
      },
      "source": [
        "Definição das Regras de Negócio"
      ]
    },
    {
      "cell_type": "code",
      "metadata": {
        "id": "IJrirjKTNl4O"
      },
      "source": [
        "regra1 = ctrl.Rule(valor['baixo']  & prob_stockout['baixo']  ,  decisao['muito bom'])\n",
        "regra2 = ctrl.Rule(valor['medio'] & prob_stockout['baixo'],  decisao['bom custo benefício'])\n",
        "regra3 = ctrl.Rule(valor['baixo']  & prob_stockout['medio'],  decisao['bom custo benefício'])\n",
        "regra4 = ctrl.Rule(valor['alto']  | prob_stockout['alto'],   decisao['ruim'])\n",
        "\n",
        "# Cria um sistema de controle e uma simulação\n",
        "inventory_ctrl = ctrl.ControlSystem([regra1, regra2, regra3, regra4])\n",
        "inventory_sim = ctrl.ControlSystemSimulation(inventory_ctrl)"
      ],
      "execution_count": null,
      "outputs": []
    },
    {
      "cell_type": "markdown",
      "metadata": {
        "id": "FeLEI1rgcNkc"
      },
      "source": [
        "Assim pode-se testar o sistema de suporte a decisão para valores conhecidos"
      ]
    },
    {
      "cell_type": "code",
      "metadata": {
        "colab": {
          "base_uri": "https://localhost:8080/"
        },
        "id": "pGTJnHz9NqDd",
        "outputId": "c31a2b06-1d45-4a6e-ef2b-5138215c3394"
      },
      "source": [
        "# Entrada\n",
        "inventory_sim.input['Custo Anual do Estoque'] = 3800\n",
        "inventory_sim.input['Probabilidade de Estoque Acabar'] = 0.15\n",
        "\n",
        "# Calcula\n",
        "inventory_sim.compute()\n",
        "inventory_sim.output"
      ],
      "execution_count": null,
      "outputs": [
        {
          "output_type": "execute_result",
          "data": {
            "text/plain": [
              "OrderedDict([('Pontuação de Estoque', 26.141246047862552)])"
            ]
          },
          "metadata": {
            "tags": []
          },
          "execution_count": 18
        }
      ]
    },
    {
      "cell_type": "code",
      "metadata": {
        "colab": {
          "base_uri": "https://localhost:8080/",
          "height": 281
        },
        "id": "S7g-zREca1sj",
        "outputId": "9d1bfa5a-9a1a-44a6-dd15-dc4584500142"
      },
      "source": [
        "prob_stockout.view(sim=inventory_sim)"
      ],
      "execution_count": null,
      "outputs": [
        {
          "output_type": "display_data",
          "data": {
            "image/png": "[encoded data removed]",
            "text/plain": [
              "<Figure size 432x288 with 1 Axes>"
            ]
          },
          "metadata": {
            "tags": [],
            "needs_background": "light"
          }
        }
      ]
    },
    {
      "cell_type": "code",
      "metadata": {
        "colab": {
          "base_uri": "https://localhost:8080/",
          "height": 281
        },
        "id": "sSNc4TRxa15d",
        "outputId": "94770572-2a64-4e3e-d2a1-357cd2b8e0ae"
      },
      "source": [
        "valor.view(sim=inventory_sim)"
      ],
      "execution_count": null,
      "outputs": [
        {
          "output_type": "display_data",
          "data": {
            "image/png": "[encoded data removed]",
            "text/plain": [
              "<Figure size 432x288 with 1 Axes>"
            ]
          },
          "metadata": {
            "tags": [],
            "needs_background": "light"
          }
        }
      ]
    },
    {
      "cell_type": "code",
      "metadata": {
        "colab": {
          "base_uri": "https://localhost:8080/",
          "height": 281
        },
        "id": "-1svBmtgNwl5",
        "outputId": "d6c9ef3f-01c9-4d7f-dca6-7719600258cf"
      },
      "source": [
        "decisao.view(sim=inventory_sim)"
      ],
      "execution_count": null,
      "outputs": [
        {
          "output_type": "display_data",
          "data": {
            "image/png": "[encoded data removed]",
            "text/plain": [
              "<Figure size 432x288 with 1 Axes>"
            ]
          },
          "metadata": {
            "tags": [],
            "needs_background": "light"
          }
        }
      ]
    },
    {
      "cell_type": "markdown",
      "metadata": {
        "id": "4nMV6fg4cgR8"
      },
      "source": [
        "Criação de uma Função para Automatizar os Cálculos"
      ]
    },
    {
      "cell_type": "code",
      "metadata": {
        "id": "V1zwiz5EN5KN"
      },
      "source": [
        "def ic(configuracao_estoque):\n",
        "   # Entrada\n",
        "   inventory_sim.input['Custo Anual do Estoque'] = configuracao_estoque[0]\n",
        "   inventory_sim.input['Probabilidade de Estoque Acabar'] = configuracao_estoque[1]\n",
        "\n",
        "   # Calcula\n",
        "   inventory_sim.compute()\n",
        "   return(inventory_sim.output['Pontuação de Estoque'])"
      ],
      "execution_count": null,
      "outputs": []
    },
    {
      "cell_type": "markdown",
      "metadata": {
        "id": "6vFUn05XclaR"
      },
      "source": [
        "Resultado do Sistema de Suporte a Decisão para as saídas geradas pelo Otimizador"
      ]
    },
    {
      "cell_type": "code",
      "metadata": {
        "colab": {
          "base_uri": "https://localhost:8080/",
          "height": 521
        },
        "id": "IQ8_xFoeSrXy",
        "outputId": "f4af3a80-fd95-4c0d-e57a-d7527a566e3f"
      },
      "source": [
        "df_solutions = pd.DataFrame(columns = ['S', 'C', 'Q', 'k', 'Ponto de Pedido', 'Pontuação de Estoque' ])\n",
        "for i in range (0, len(vectors)):\n",
        "  dict_solution = {'S' : fits[i][0], 'C' : fits[i][1], 'Q' : vectors[i][0], 'k' : vectors[i][1], 'Ponto de Pedido': estoque.return_R(vectors[i][1]), 'Pontuação de Estoque' :  ic([fits[i][1], fits[i][0]])  }\n",
        "  df_solutions.loc[i] = dict_solution\n",
        "df_solutions"
      ],
      "execution_count": null,
      "outputs": [
        {
          "output_type": "execute_result",
          "data": {
            "text/html": [
              "<div>\n",
              "<style scoped>\n",
              "    .dataframe tbody tr th:only-of-type {\n",
              "        vertical-align: middle;\n",
              "    }\n",
              "\n",
              "    .dataframe tbody tr th {\n",
              "        vertical-align: top;\n",
              "    }\n",
              "\n",
              "    .dataframe thead th {\n",
              "        text-align: right;\n",
              "    }\n",
              "</style>\n",
              "<table border=\"1\" class=\"dataframe\">\n",
              "  <thead>\n",
              "    <tr style=\"text-align: right;\">\n",
              "      <th></th>\n",
              "      <th>S</th>\n",
              "      <th>C</th>\n",
              "      <th>Q</th>\n",
              "      <th>k</th>\n",
              "      <th>Ponto de Pedido</th>\n",
              "      <th>Pontuação de Estoque</th>\n",
              "    </tr>\n",
              "  </thead>\n",
              "  <tbody>\n",
              "    <tr>\n",
              "      <th>0</th>\n",
              "      <td>0.991273</td>\n",
              "      <td>2674.775379</td>\n",
              "      <td>301.138954</td>\n",
              "      <td>1.356384</td>\n",
              "      <td>356.701823</td>\n",
              "      <td>13.333333</td>\n",
              "    </tr>\n",
              "    <tr>\n",
              "      <th>1</th>\n",
              "      <td>0.005758</td>\n",
              "      <td>4346.122683</td>\n",
              "      <td>799.956339</td>\n",
              "      <td>2.999987</td>\n",
              "      <td>444.394636</td>\n",
              "      <td>13.460594</td>\n",
              "    </tr>\n",
              "    <tr>\n",
              "      <th>2</th>\n",
              "      <td>0.005758</td>\n",
              "      <td>4346.122683</td>\n",
              "      <td>799.956339</td>\n",
              "      <td>2.999987</td>\n",
              "      <td>444.394636</td>\n",
              "      <td>13.460594</td>\n",
              "    </tr>\n",
              "    <tr>\n",
              "      <th>3</th>\n",
              "      <td>0.457092</td>\n",
              "      <td>2720.475712</td>\n",
              "      <td>292.895347</td>\n",
              "      <td>1.759598</td>\n",
              "      <td>378.214921</td>\n",
              "      <td>13.668567</td>\n",
              "    </tr>\n",
              "    <tr>\n",
              "      <th>4</th>\n",
              "      <td>0.783490</td>\n",
              "      <td>2680.327195</td>\n",
              "      <td>301.112984</td>\n",
              "      <td>1.482197</td>\n",
              "      <td>363.414498</td>\n",
              "      <td>13.333333</td>\n",
              "    </tr>\n",
              "    <tr>\n",
              "      <th>5</th>\n",
              "      <td>0.011841</td>\n",
              "      <td>3238.095948</td>\n",
              "      <td>389.004077</td>\n",
              "      <td>2.999987</td>\n",
              "      <td>444.394636</td>\n",
              "      <td>42.787550</td>\n",
              "    </tr>\n",
              "    <tr>\n",
              "      <th>6</th>\n",
              "      <td>0.005894</td>\n",
              "      <td>4288.214587</td>\n",
              "      <td>781.500592</td>\n",
              "      <td>2.999983</td>\n",
              "      <td>444.394407</td>\n",
              "      <td>13.566244</td>\n",
              "    </tr>\n",
              "    <tr>\n",
              "      <th>7</th>\n",
              "      <td>0.307711</td>\n",
              "      <td>2765.059011</td>\n",
              "      <td>316.978485</td>\n",
              "      <td>1.901983</td>\n",
              "      <td>385.811737</td>\n",
              "      <td>17.791964</td>\n",
              "    </tr>\n",
              "    <tr>\n",
              "      <th>8</th>\n",
              "      <td>0.006943</td>\n",
              "      <td>3935.371226</td>\n",
              "      <td>665.941394</td>\n",
              "      <td>2.998824</td>\n",
              "      <td>444.332603</td>\n",
              "      <td>18.766849</td>\n",
              "    </tr>\n",
              "    <tr>\n",
              "      <th>9</th>\n",
              "      <td>0.146326</td>\n",
              "      <td>2852.768202</td>\n",
              "      <td>292.895347</td>\n",
              "      <td>2.239521</td>\n",
              "      <td>403.820744</td>\n",
              "      <td>47.007895</td>\n",
              "    </tr>\n",
              "    <tr>\n",
              "      <th>10</th>\n",
              "      <td>0.008529</td>\n",
              "      <td>3581.522899</td>\n",
              "      <td>540.068977</td>\n",
              "      <td>2.999987</td>\n",
              "      <td>444.394636</td>\n",
              "      <td>34.620656</td>\n",
              "    </tr>\n",
              "    <tr>\n",
              "      <th>11</th>\n",
              "      <td>0.007000</td>\n",
              "      <td>3919.462469</td>\n",
              "      <td>660.554706</td>\n",
              "      <td>2.998824</td>\n",
              "      <td>444.332603</td>\n",
              "      <td>19.744320</td>\n",
              "    </tr>\n",
              "    <tr>\n",
              "      <th>12</th>\n",
              "      <td>0.011731</td>\n",
              "      <td>3565.467262</td>\n",
              "      <td>548.751152</td>\n",
              "      <td>2.896503</td>\n",
              "      <td>438.873352</td>\n",
              "      <td>35.116327</td>\n",
              "    </tr>\n",
              "    <tr>\n",
              "      <th>13</th>\n",
              "      <td>0.089790</td>\n",
              "      <td>2914.512446</td>\n",
              "      <td>292.242129</td>\n",
              "      <td>2.423275</td>\n",
              "      <td>413.624735</td>\n",
              "      <td>46.767342</td>\n",
              "    </tr>\n",
              "    <tr>\n",
              "      <th>14</th>\n",
              "      <td>0.312937</td>\n",
              "      <td>2763.118626</td>\n",
              "      <td>316.978485</td>\n",
              "      <td>1.894608</td>\n",
              "      <td>385.418248</td>\n",
              "      <td>17.603362</td>\n",
              "    </tr>\n",
              "    <tr>\n",
              "      <th>15</th>\n",
              "      <td>0.029155</td>\n",
              "      <td>3053.341242</td>\n",
              "      <td>299.316979</td>\n",
              "      <td>2.799685</td>\n",
              "      <td>433.707732</td>\n",
              "      <td>45.833095</td>\n",
              "    </tr>\n",
              "  </tbody>\n",
              "</table>\n",
              "</div>"
            ],
            "text/plain": [
              "           S            C  ...  Ponto de Pedido  Pontuação de Estoque\n",
              "0   0.991273  2674.775379  ...       356.701823             13.333333\n",
              "1   0.005758  4346.122683  ...       444.394636             13.460594\n",
              "2   0.005758  4346.122683  ...       444.394636             13.460594\n",
              "3   0.457092  2720.475712  ...       378.214921             13.668567\n",
              "4   0.783490  2680.327195  ...       363.414498             13.333333\n",
              "5   0.011841  3238.095948  ...       444.394636             42.787550\n",
              "6   0.005894  4288.214587  ...       444.394407             13.566244\n",
              "7   0.307711  2765.059011  ...       385.811737             17.791964\n",
              "8   0.006943  3935.371226  ...       444.332603             18.766849\n",
              "9   0.146326  2852.768202  ...       403.820744             47.007895\n",
              "10  0.008529  3581.522899  ...       444.394636             34.620656\n",
              "11  0.007000  3919.462469  ...       444.332603             19.744320\n",
              "12  0.011731  3565.467262  ...       438.873352             35.116327\n",
              "13  0.089790  2914.512446  ...       413.624735             46.767342\n",
              "14  0.312937  2763.118626  ...       385.418248             17.603362\n",
              "15  0.029155  3053.341242  ...       433.707732             45.833095\n",
              "\n",
              "[16 rows x 6 columns]"
            ]
          },
          "metadata": {
            "tags": []
          },
          "execution_count": 17
        }
      ]
    },
    {
      "cell_type": "markdown",
      "metadata": {
        "id": "breTJZeXc92-"
      },
      "source": [
        "Quais são as melhores soluções de acordo com os critérios da equipe gerencial?"
      ]
    },
    {
      "cell_type": "code",
      "metadata": {
        "id": "BwQJgmKURFeX"
      },
      "source": [
        ""
      ],
      "execution_count": null,
      "outputs": []
    }
  ]
}